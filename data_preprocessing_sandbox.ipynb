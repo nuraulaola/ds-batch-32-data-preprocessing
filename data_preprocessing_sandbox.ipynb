{
  "cells": [
    {
      "cell_type": "code",
      "execution_count": null,
      "metadata": {
        "id": "h9XvhXnFRCEO"
      },
      "outputs": [],
      "source": [
        "import pandas as pd"
      ]
    },
    {
      "cell_type": "markdown",
      "metadata": {
        "id": "ko21v2jDHMJr"
      },
      "source": [
        "# Feature Engineering Example"
      ]
    },
    {
      "cell_type": "markdown",
      "metadata": {
        "id": "JU0gOEwRKXfP"
      },
      "source": [
        "Price per weight"
      ]
    },
    {
      "cell_type": "code",
      "execution_count": null,
      "metadata": {
        "id": "ZxTerchcHhgj"
      },
      "outputs": [],
      "source": [
        "data = {\"item_id\": [\"A1\", \"B1\", \"C2\", \"D3\"],\n",
        "        \"price ($)\": [95.4, 31.7, 52.5, 21.9],\n",
        "        \"weight (kg)\": [12.2, 4.2, 9.3, 6.4]}\n",
        "data = pd.DataFrame(data)\n",
        "data"
      ]
    },
    {
      "cell_type": "code",
      "execution_count": null,
      "metadata": {
        "id": "Z6ya0w8QRynz"
      },
      "outputs": [],
      "source": [
        "data[\"price per weight ($/kg)\"] = data[\"price ($)\"] / data[\"weight (kg)\"]\n",
        "data"
      ]
    },
    {
      "cell_type": "markdown",
      "metadata": {
        "id": "8cxTjHmgQ7Zi"
      },
      "source": [
        "Datetime"
      ]
    },
    {
      "cell_type": "code",
      "execution_count": null,
      "metadata": {
        "id": "OUhCAu3EKeTd"
      },
      "outputs": [],
      "source": [
        "data = ['2021-08-19 13:58:08',\n",
        "        '2021-10-13 10:40:05',\n",
        "        '2021-03-22 09:59:51',\n",
        "        '2021-01-18 16:04:28',\n",
        "        '2021-10-03 00:31:52',\n",
        "        '2021-04-24 16:39:15',\n",
        "        '2021-04-14 06:05:49',\n",
        "        '2021-01-18 12:04:23',\n",
        "        '2021-05-12 23:47:47',\n",
        "        '2021-02-10 18:01:14']\n",
        "data = pd.DataFrame(data, columns = [\"time\"])\n",
        "data[\"time\"] = pd.to_datetime(data['time'], format='%Y-%m-%d %H:%M:%S')"
      ]
    },
    {
      "cell_type": "code",
      "execution_count": null,
      "metadata": {
        "id": "nEPXzAZNYgMV"
      },
      "outputs": [],
      "source": [
        "data[\"year\"] = data[\"time\"].dt.year\n",
        "data[\"month\"] = data[\"time\"].dt.month\n",
        "data[\"date\"] = data[\"time\"].dt.day\n",
        "data[\"days_since_first_covid\"] = (data[\"time\"] - pd.to_datetime(\"2020-03-02\")).dt.days\n",
        "\n",
        "data"
      ]
    },
    {
      "cell_type": "code",
      "execution_count": null,
      "metadata": {
        "id": "4oahPmT5YgMW"
      },
      "outputs": [],
      "source": [
        "pd.to_datetime(\"2022-06-11\").dayofweek\n",
        "\n",
        "data[\"day_of_week\"] = data[\"time\"].dt.dayofweek\n",
        "data[\"is_weekend\"] = [True if dow == 5 or dow == 6 else False for dow in data[\"day_of_week\"] ]\n",
        "\n",
        "data"
      ]
    },
    {
      "cell_type": "markdown",
      "metadata": {
        "id": "8oYY0-JOKZwM"
      },
      "source": [
        "Body Mass Index"
      ]
    },
    {
      "cell_type": "code",
      "execution_count": null,
      "metadata": {
        "id": "jmCbUxnFJrec"
      },
      "outputs": [],
      "source": [
        "data = {\"weight (kg)\": [73.84, 68.78, 74.11, 71.73,\n",
        "                        69.88, 67.25, 68.78, 68.34, 67.01],\n",
        "        \"height (cm)\": [201.89, 162.31, 212.74, 220.04,\n",
        "                        206.34, 152.21, 183.92, 167.97, 175.92]}\n",
        "data = pd.DataFrame(data)\n",
        "data"
      ]
    },
    {
      "cell_type": "code",
      "execution_count": null,
      "metadata": {
        "id": "NBsaCNV7JhqO"
      },
      "outputs": [],
      "source": [
        "data[\"BMI\"] = data[\"weight (kg)\"] / (data[\"height (cm)\"]/100)**2\n",
        "data"
      ]
    },
    {
      "cell_type": "code",
      "execution_count": null,
      "metadata": {
        "id": "k1xkpIkITcTl"
      },
      "outputs": [],
      "source": [
        "def get_bmi_class(bmi):\n",
        "    if bmi <= 18.4:\n",
        "        return \"kurus\"\n",
        "    elif bmi <= 25:\n",
        "        return \"normal\"\n",
        "    else:\n",
        "        return \"gemuk\"\n",
        "\n",
        "data[\"class_BMI\"] = data[\"BMI\"].apply(lambda x: get_bmi_class(x))\n",
        "data"
      ]
    },
    {
      "cell_type": "markdown",
      "metadata": {
        "id": "jnJwq-gwHRAu"
      },
      "source": [
        "# Case: Worker Stress Dataset"
      ]
    },
    {
      "cell_type": "markdown",
      "metadata": {
        "id": "m1GtGzor6jTv"
      },
      "source": [
        "## Preparation"
      ]
    },
    {
      "cell_type": "code",
      "execution_count": null,
      "metadata": {
        "id": "FuRDX9Kh6jTx"
      },
      "outputs": [],
      "source": [
        "# Sources:\n",
        "# https://medium.com/@ksnugroho/dasar-text-preprocessing-dengan-python-a4fa52608ffe\n",
        "# https://www.datacamp.com/community/tutorials/text-analytics-beginners-nltk\n",
        "# https://stackoverflow.com/questions/64719706/cleaning-twitter-data-pandas-python\n",
        "\n",
        "import pandas as pd\n",
        "import numpy as np\n",
        "\n",
        "import warnings\n",
        "warnings.filterwarnings('ignore')"
      ]
    },
    {
      "cell_type": "code",
      "execution_count": null,
      "metadata": {
        "id": "POpqJvkT6jTy"
      },
      "outputs": [],
      "source": [
        "# Download the dataset here:\n",
        "# https://drive.google.com/file/d/1lI_keXUs1NwFrjL4wfQsQ3YeJGkYja7m/view?usp=sharing\n",
        "df = pd.read_csv('data/data_sesi26.csv')"
      ]
    },
    {
      "cell_type": "code",
      "execution_count": null,
      "metadata": {
        "id": "au0xtIZUIhmi"
      },
      "outputs": [],
      "source": [
        "df.head()"
      ]
    },
    {
      "cell_type": "code",
      "execution_count": null,
      "metadata": {
        "id": "QXRoPlTF6jT0"
      },
      "outputs": [],
      "source": [
        "df.columns"
      ]
    },
    {
      "cell_type": "code",
      "execution_count": null,
      "metadata": {
        "id": "oJehYwQsbTXJ"
      },
      "outputs": [],
      "source": [
        "df.describe()"
      ]
    },
    {
      "cell_type": "code",
      "execution_count": null,
      "metadata": {
        "id": "ENz6UrM_bftL"
      },
      "outputs": [],
      "source": [
        "from collections import Counter\n",
        "print(Counter(df[\"jenis_kelamin\"]))\n",
        "print(Counter(df[\"pekerjaan\"]))\n",
        "print(Counter(df[\"is_menikah\"]))\n",
        "print(Counter(df[\"is_merokok\"]))\n",
        "print(Counter(df[\"pendidikan\"]))"
      ]
    },
    {
      "cell_type": "code",
      "execution_count": null,
      "metadata": {
        "id": "yi7rA1dsb84q"
      },
      "outputs": [],
      "source": [
        "df.isnull().sum()"
      ]
    },
    {
      "cell_type": "code",
      "execution_count": null,
      "metadata": {
        "id": "Fc2vpG7CcCH_"
      },
      "outputs": [],
      "source": [
        "fitur_numerikal = [\"umur\", \"gaji\", \"berat\", \"tinggi\"]\n",
        "fitur_kategorikal = [\"jenis_kelamin\", \"pekerjaan\", \"is_menikah\", \"is_merokok\", \"pendidikan\"]"
      ]
    },
    {
      "cell_type": "code",
      "execution_count": null,
      "metadata": {
        "id": "om_nxnCx5HPT"
      },
      "outputs": [],
      "source": [
        "# Cek umur\n",
        "df[\"umur\"].plot.hist()"
      ]
    },
    {
      "cell_type": "code",
      "execution_count": null,
      "metadata": {
        "id": "tKFJOtCf5Ees"
      },
      "outputs": [],
      "source": [
        "#Menghapus data orang dibawah umur legal\n",
        "df = df[df[\"umur\"]>18]"
      ]
    },
    {
      "cell_type": "code",
      "execution_count": null,
      "metadata": {
        "id": "Ewi77HDicP_v"
      },
      "outputs": [],
      "source": [
        "# Isi missing values\n",
        "df[fitur_numerikal] = df[fitur_numerikal].fillna(df[fitur_numerikal].mean())\n",
        "df[fitur_kategorikal] = df[fitur_kategorikal].fillna(\"Unknown\")"
      ]
    },
    {
      "cell_type": "code",
      "execution_count": null,
      "metadata": {
        "id": "CFp3e_5fdSy4"
      },
      "outputs": [],
      "source": [
        "df.isnull().sum()"
      ]
    },
    {
      "cell_type": "markdown",
      "metadata": {
        "id": "ZK7dSTxj6jT4"
      },
      "source": [
        "## Feature Engineering"
      ]
    },
    {
      "cell_type": "code",
      "execution_count": null,
      "metadata": {
        "id": "tS8yYk89ig0b"
      },
      "outputs": [],
      "source": [
        "df.head()"
      ]
    },
    {
      "cell_type": "code",
      "execution_count": null,
      "metadata": {
        "id": "mqQiRvdG6jT5"
      },
      "outputs": [],
      "source": [
        "df['kualitas_gaji'] = df['gaji']/(df['umur'])\n",
        "df['bmi'] = df['berat']/((df['tinggi']/100)**2)"
      ]
    },
    {
      "cell_type": "code",
      "execution_count": null,
      "metadata": {
        "id": "iN_DI_8tjCNX"
      },
      "outputs": [],
      "source": [
        "kat_bmi = []\n",
        "for bmi in df[\"bmi\"].values:\n",
        "    if bmi < 17:\n",
        "        kat_bmi.append(\"kurus\")\n",
        "    elif bmi < 25:\n",
        "        kat_bmi.append(\"normal\")\n",
        "    else:\n",
        "        kat_bmi.append(\"gemuk\")\n",
        "df['kategori_bmi'] = kat_bmi"
      ]
    },
    {
      "cell_type": "code",
      "execution_count": null,
      "metadata": {
        "id": "10RJhqTEdwRi"
      },
      "outputs": [],
      "source": [
        "df[[\"kualitas_gaji\", \"bmi\", \"kategori_bmi\"]]"
      ]
    },
    {
      "cell_type": "code",
      "execution_count": null,
      "metadata": {
        "id": "Nh1QCOfheMa9"
      },
      "outputs": [],
      "source": [
        "df.head()"
      ]
    },
    {
      "cell_type": "code",
      "execution_count": null,
      "metadata": {
        "id": "ziyvbYUbeP81"
      },
      "outputs": [],
      "source": [
        "Counter(df[\"ever_stress\"])"
      ]
    },
    {
      "cell_type": "code",
      "execution_count": null,
      "metadata": {
        "id": "sVBPuebuegW1"
      },
      "outputs": [],
      "source": [
        "X = df.drop(columns = [\"ever_stress\"])\n",
        "y = df[\"ever_stress\"]"
      ]
    },
    {
      "cell_type": "code",
      "execution_count": null,
      "metadata": {
        "id": "dUK-7NeW_Y0F"
      },
      "outputs": [],
      "source": [
        "# One hot encoding\n",
        "X = pd.get_dummies(X)\n",
        "X = X.fillna(0)"
      ]
    },
    {
      "cell_type": "code",
      "execution_count": null,
      "metadata": {
        "id": "_TXkxbUPIYWA"
      },
      "outputs": [],
      "source": [
        "X.head()"
      ]
    },
    {
      "cell_type": "markdown",
      "metadata": {
        "id": "6sNXuM-56jT1"
      },
      "source": [
        "## Train Test Split"
      ]
    },
    {
      "cell_type": "code",
      "execution_count": null,
      "metadata": {
        "id": "wsKNKgpO6jT1"
      },
      "outputs": [],
      "source": [
        "from sklearn.model_selection import train_test_split\n",
        "X_train,X_test,y_train,y_test = train_test_split(X,y,test_size = 0.3,\n",
        "                                                 stratify=y,random_state = 123)"
      ]
    },
    {
      "cell_type": "code",
      "execution_count": null,
      "metadata": {
        "id": "U2Mtc2LE6jT2"
      },
      "outputs": [],
      "source": [
        "y_train.value_counts()"
      ]
    },
    {
      "cell_type": "markdown",
      "metadata": {
        "id": "2P9PeLhEklzo"
      },
      "source": [
        "## Imbalanced Dataset Solution"
      ]
    },
    {
      "cell_type": "code",
      "execution_count": null,
      "metadata": {
        "ExecuteTime": {
          "end_time": "2020-08-30T05:04:12.387887Z",
          "start_time": "2020-08-30T05:04:12.364911Z"
        },
        "id": "27jzXFSLklzt"
      },
      "outputs": [],
      "source": [
        "from imblearn.under_sampling import RandomUnderSampler\n",
        "undersampling = RandomUnderSampler(sampling_strategy=1)\n",
        "X_under, y_under = undersampling.fit_resample(X_train,y_train)"
      ]
    },
    {
      "cell_type": "code",
      "execution_count": null,
      "metadata": {
        "id": "FnFw9oBee780"
      },
      "outputs": [],
      "source": [
        "Counter(y_under)"
      ]
    },
    {
      "cell_type": "code",
      "execution_count": null,
      "metadata": {
        "id": "cR1tFjuU6jT3"
      },
      "outputs": [],
      "source": [
        "from imblearn.over_sampling import RandomOverSampler\n",
        "oversampling = RandomOverSampler(sampling_strategy=1)\n",
        "X_over, y_over = oversampling.fit_resample(X_train,y_train)"
      ]
    },
    {
      "cell_type": "code",
      "execution_count": null,
      "metadata": {
        "id": "hDP5gkILfD7E"
      },
      "outputs": [],
      "source": [
        "Counter(y_over)"
      ]
    },
    {
      "cell_type": "code",
      "execution_count": null,
      "metadata": {
        "id": "9MsmCSYq6jT3"
      },
      "outputs": [],
      "source": [
        "from imblearn.over_sampling import SMOTE\n",
        "smote = SMOTE(sampling_strategy = 1)\n",
        "X_smote, y_smote = smote.fit_resample(X_train,y_train)"
      ]
    },
    {
      "cell_type": "code",
      "execution_count": null,
      "metadata": {
        "id": "Zf9qG1yn6jT4"
      },
      "outputs": [],
      "source": [
        "Counter(y_smote)"
      ]
    },
    {
      "cell_type": "code",
      "execution_count": null,
      "metadata": {
        "id": "_8OeaR0a64Ue"
      },
      "outputs": [],
      "source": [
        "X_smote.tail(10)"
      ]
    },
    {
      "cell_type": "markdown",
      "metadata": {
        "id": "QNC8o-Q69Muc"
      },
      "source": [
        "# Handling Text Data"
      ]
    },
    {
      "cell_type": "markdown",
      "metadata": {
        "id": "IpDPtNsAAakh"
      },
      "source": [
        "## Cleaning"
      ]
    },
    {
      "cell_type": "code",
      "execution_count": null,
      "metadata": {
        "id": "0bO8s7y_9Ris"
      },
      "outputs": [],
      "source": [
        "import nltk\n",
        "nltk.download('stopwords')\n",
        "nltk.download('punkt')"
      ]
    },
    {
      "cell_type": "code",
      "execution_count": null,
      "metadata": {
        "id": "sQIsi7DI9VYa"
      },
      "outputs": [],
      "source": [
        "# Lowercase (Case Folding)\n",
        "kalimat = \"Berikut ini adalah 5 negara dengan pendidikan terbaik di dunia adalah Korea Selatan, Jepang, Singapura, Hong Kong, dan Finlandia.\"\n",
        "lower_case = kalimat.lower()\n",
        "print(lower_case)"
      ]
    },
    {
      "cell_type": "code",
      "execution_count": null,
      "metadata": {
        "id": "LVdsbI_8ba9m"
      },
      "outputs": [],
      "source": [
        "# Menghilangkan symbol\n",
        "import string\n",
        "kalimat = \"Ini &adalah [contoh] kalimat? {dengan} tanda. baca?!!\"\n",
        "hasil = kalimat.translate(str.maketrans(\"\",\"\",string.punctuation))\n",
        "print(string.punctuation)\n",
        "print(hasil)"
      ]
    },
    {
      "cell_type": "code",
      "execution_count": null,
      "metadata": {
        "id": "WieSRY4t90nS"
      },
      "outputs": [],
      "source": [
        "# Hapus angka\n",
        "# https://regexr.com/\n",
        "import re # import modul regular expression\n",
        "kalimat = \"i have 32 shoes and 51 shirts\"\n",
        "# re.sub(regex_format, change_to_this, string)\n",
        "hasil = re.sub(r\"\\d+\", \"\", kalimat)\n",
        "print(hasil)\n",
        "print(hasil.split())\n",
        "print(\" \".join(hasil.split()))"
      ]
    },
    {
      "cell_type": "code",
      "execution_count": null,
      "metadata": {
        "id": "AKhbFvf29-_m"
      },
      "outputs": [],
      "source": [
        "# Translasi angka\n",
        "import inflect\n",
        "kalimat = \"i have 3 shoes and 5 shirts\"\n",
        "p = inflect.engine()\n",
        "hasil = []\n",
        "for i in kalimat.split():\n",
        "    if i.isnumeric():\n",
        "        i = p.number_to_words(i)\n",
        "    hasil.append(i)\n",
        "hasil = \" \".join(hasil)\n",
        "print(hasil)"
      ]
    },
    {
      "cell_type": "code",
      "execution_count": null,
      "metadata": {
        "id": "DUsgSE7N_CE5"
      },
      "outputs": [],
      "source": [
        "# Menghilangkan mention dan hashtag\n",
        "kalimat = \"halo @kawanku apa kabar @Teman? #pertemanan #TemanLama #Angkatan2013\"\n",
        "print(re.sub(r\"#[A-Za-z0-9]+\",\"\",kalimat)) #tanpa hashtag\n",
        "print(re.sub(r\"@[A-Za-z0-9]+\",\"\",kalimat)) #tanpa mention"
      ]
    },
    {
      "cell_type": "code",
      "execution_count": null,
      "metadata": {
        "id": "Rn5_ESzM_URy"
      },
      "outputs": [],
      "source": [
        "# Menghapus URL\n",
        "kalimat = \"bisa cek disini http://www.google.com gan\"\n",
        "print(re.sub(r\"(?:\\@|http?\\://|https?\\://|www)\\S+\", \"\", kalimat))"
      ]
    },
    {
      "cell_type": "code",
      "execution_count": null,
      "metadata": {
        "id": "WFDwbSYW_AzW"
      },
      "outputs": [],
      "source": [
        "# Menghapus whitespace\n",
        "kalimat = \" \\t ini kalimat contoh\\t \\n\"\n",
        "hasil = kalimat.strip()\n",
        "print(hasil)"
      ]
    },
    {
      "cell_type": "code",
      "execution_count": null,
      "metadata": {
        "id": "ZTXur0DJoTFs"
      },
      "outputs": [],
      "source": [
        "\"bisa  cek   disini      gan\".split()"
      ]
    },
    {
      "cell_type": "code",
      "execution_count": null,
      "metadata": {
        "id": "QVROgRhGixy9"
      },
      "outputs": [],
      "source": [
        "\" \".join(\"bisa  cek   disini  gan\".split())"
      ]
    },
    {
      "cell_type": "markdown",
      "metadata": {
        "id": "ge1JhJ5eAcKK"
      },
      "source": [
        "## Tokenizing"
      ]
    },
    {
      "cell_type": "code",
      "execution_count": null,
      "metadata": {
        "id": "BiqJCs2IAdig"
      },
      "outputs": [],
      "source": [
        "kalimat = \"Andi kerap melakukan transaksi, rutin secara daring atau online.\"\n",
        "pisah = kalimat.split()\n",
        "print(pisah)"
      ]
    },
    {
      "cell_type": "code",
      "execution_count": null,
      "metadata": {
        "id": "yIhhT8V8AeK8"
      },
      "outputs": [],
      "source": [
        "# import word_tokenize dari modul nltk\n",
        "from nltk.tokenize import word_tokenize\n",
        "\n",
        "kalimat = \"Andi kerap melakukan transaksi, rutin secara daring atau online.\"\n",
        "\n",
        "tokens = word_tokenize(kalimat)\n",
        "print(tokens)"
      ]
    },
    {
      "cell_type": "code",
      "execution_count": null,
      "metadata": {
        "id": "cLaGja1BA6N8"
      },
      "outputs": [],
      "source": [
        "# import sent_tokenize dari modul nltk\n",
        "from nltk.tokenize import sent_tokenize\n",
        "kalimat = \"Andi kerap melakukan transaksi rutin secara daring atau online. \\\n",
        "           Menurut Andi belanja online lebih praktis & murah.\"\n",
        "\n",
        "tokens = nltk.tokenize.sent_tokenize(kalimat)\n",
        "print(tokens)"
      ]
    },
    {
      "cell_type": "code",
      "execution_count": null,
      "metadata": {
        "id": "1CHfge0oA7-X"
      },
      "outputs": [],
      "source": [
        "from nltk.corpus import stopwords\n",
        "\n",
        "# Bersihkan text terlebih dahulu\n",
        "kalimat = \"Andi kerap melakukan transaksi rutin secara daring atau online. Menurut Andi belanja online lebih praktis & murah.\"\n",
        "kalimat = kalimat.translate(str.maketrans('','',string.punctuation)).lower() #hapus symbol dan mengubah huruf kapital\n",
        "\n",
        "# Tokenizer\n",
        "tokens = word_tokenize(kalimat)\n",
        "\n",
        "listStopword = set(stopwords.words('indonesian'))\n",
        "removed = []\n",
        "stops = []\n",
        "for t in tokens:\n",
        "    if t in listStopword:\n",
        "      stops.append(t)\n",
        "    else:\n",
        "      removed.append(t)\n",
        "print(removed)\n",
        "print(stops)\n"
      ]
    },
    {
      "cell_type": "code",
      "execution_count": null,
      "metadata": {
        "id": "nhCXPLo9BHg2"
      },
      "outputs": [],
      "source": [
        "# list(listStopword)[100:120]"
      ]
    },
    {
      "cell_type": "code",
      "execution_count": null,
      "metadata": {
        "id": "ZRjwuRX2Ccg2"
      },
      "outputs": [],
      "source": [
        "!pip install Sastrawi"
      ]
    },
    {
      "cell_type": "code",
      "execution_count": null,
      "metadata": {
        "id": "d4QrZGL0BLpJ"
      },
      "outputs": [],
      "source": [
        "# Stemming\n",
        "from Sastrawi.Stemmer.StemmerFactory import StemmerFactory\n",
        "factory = StemmerFactory()\n",
        "stemmer = factory.create_stemmer()\n",
        "\n",
        "kalimat = \"Andi kerap melakukan transaksi rutin secara daring atau online. Menurut Andi belanja online lebih praktis & murah.\"\n",
        "hasil = stemmer.stem(kalimat)\n",
        "print(hasil)"
      ]
    },
    {
      "cell_type": "code",
      "execution_count": null,
      "metadata": {
        "id": "fqlleb0jC8Wp"
      },
      "outputs": [],
      "source": [
        "kalimat = \"mendengarkan didengarkan mendengar dengarkan didengar\"\n",
        "hasil = stemmer.stem(kalimat)\n",
        "print(hasil)"
      ]
    },
    {
      "cell_type": "markdown",
      "metadata": {
        "id": "RKVsDSvyCm7V"
      },
      "source": [
        "## Vectorization (Bag of Words and TF-IDF)"
      ]
    },
    {
      "cell_type": "code",
      "execution_count": null,
      "metadata": {
        "id": "prJVw1QuCW5e"
      },
      "outputs": [],
      "source": [
        "dt = [\"We love dogs! :*\",\n",
        "      \"We hate dogs and knitting :(\",\n",
        "      \"Knitting is our hobby and our passion :)\"]\n",
        "dt = pd.DataFrame(dt, columns = [\"text\"])"
      ]
    },
    {
      "cell_type": "code",
      "execution_count": null,
      "metadata": {
        "id": "eWAva26ODHdb"
      },
      "outputs": [],
      "source": [
        "dt"
      ]
    },
    {
      "cell_type": "code",
      "execution_count": null,
      "metadata": {
        "id": "0p1yUqGWDNzA"
      },
      "outputs": [],
      "source": [
        "def cleaning_tokenizing(txt):\n",
        "    txt = txt.lower() # menjadi huruf kecil semua\n",
        "    txt = txt.translate(str.maketrans(\"\",\"\",string.punctuation)) #hapus symbol\n",
        "    txt = nltk.tokenize.word_tokenize(txt) # tokenize\n",
        "    return txt\n",
        "dt[\"text\"].apply(cleaning_tokenizing)"
      ]
    },
    {
      "cell_type": "code",
      "execution_count": null,
      "metadata": {
        "id": "2t-FW_NpD5Hx"
      },
      "outputs": [],
      "source": [
        "from sklearn.feature_extraction.text import CountVectorizer\n",
        "cv = CountVectorizer()\n",
        "text_counts = cv.fit_transform(dt[\"text\"])\n",
        "pd.DataFrame(text_counts.toarray(), columns = cv.get_feature_names_out())"
      ]
    },
    {
      "cell_type": "code",
      "execution_count": null,
      "metadata": {
        "id": "hOGqRgVQF-YW"
      },
      "outputs": [],
      "source": [
        "from sklearn.feature_extraction.text import TfidfVectorizer\n",
        "cv = TfidfVectorizer()\n",
        "text_counts= cv.fit_transform(dt[\"text\"])\n",
        "pd.DataFrame(text_counts.toarray(), columns = cv.get_feature_names_out())"
      ]
    },
    {
      "cell_type": "code",
      "execution_count": null,
      "metadata": {
        "id": "QP9Qevb4kIE-"
      },
      "outputs": [],
      "source": []
    },
    {
      "cell_type": "code",
      "execution_count": null,
      "metadata": {
        "id": "pHHLtzjv_zFz"
      },
      "outputs": [],
      "source": []
    }
  ],
  "metadata": {
    "colab": {
      "provenance": [],
      "toc_visible": true
    },
    "kernelspec": {
      "display_name": "Python 3 (ipykernel)",
      "language": "python",
      "name": "python3"
    },
    "language_info": {
      "codemirror_mode": {
        "name": "ipython",
        "version": 3
      },
      "file_extension": ".py",
      "mimetype": "text/x-python",
      "name": "python",
      "nbconvert_exporter": "python",
      "pygments_lexer": "ipython3",
      "version": "3.11.3"
    }
  },
  "nbformat": 4,
  "nbformat_minor": 0
}